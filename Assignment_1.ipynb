{
 "cells": [
  {
   "cell_type": "markdown",
   "id": "6f7ea5fb-bbfc-4894-9fff-7c5bb8fe1a40",
   "metadata": {},
   "source": [
    "# -----------------------------------------Asingnment--------------------------------"
   ]
  },
  {
   "cell_type": "markdown",
   "id": "19d51fe0-f4fc-4f0b-8e98-7feedcf9d672",
   "metadata": {},
   "source": [
    "## 1. write a python program to print \"hello pyhton\" ?"
   ]
  },
  {
   "cell_type": "code",
   "execution_count": 6,
   "id": "bc174f5b-dc26-4f53-9063-1044697af302",
   "metadata": {},
   "outputs": [
    {
     "name": "stdout",
     "output_type": "stream",
     "text": [
      "hello pyhton\n"
     ]
    }
   ],
   "source": [
    "print(\"hello pyhton\")"
   ]
  },
  {
   "cell_type": "markdown",
   "id": "198e7160-7668-4d19-afd6-0956a9e4fd78",
   "metadata": {},
   "source": [
    "# 2. write a python program to find  the areaof a triangle ?"
   ]
  },
  {
   "cell_type": "code",
   "execution_count": 9,
   "id": "10df12f4-a0bf-49ae-8d44-b82011db317a",
   "metadata": {},
   "outputs": [
    {
     "name": "stdin",
     "output_type": "stream",
     "text": [
      "enter the value of base:  10\n",
      "enter the value of height:  40\n"
     ]
    },
    {
     "name": "stdout",
     "output_type": "stream",
     "text": [
      "Area of triangle is :  200.0\n"
     ]
    }
   ],
   "source": [
    "# area of triangle \n",
    "# 1/2 * base * height\n",
    "\n",
    "base = int(input(\"enter the value of base: \"))\n",
    "height = int(input(\"enter the value of height: \"))\n",
    "area = 1/2*(base)*height\n",
    "print(\"Area of triangle is : \", area)"
   ]
  },
  {
   "cell_type": "markdown",
   "id": "7b7d3572-8361-49d3-b6e0-bdf4316784c8",
   "metadata": {},
   "source": [
    "# 3. write a program to swap two variables."
   ]
  },
  {
   "cell_type": "code",
   "execution_count": 15,
   "id": "de5cd5fe-6a7e-47e8-847b-4b846aeef7c2",
   "metadata": {},
   "outputs": [
    {
     "name": "stdout",
     "output_type": "stream",
     "text": [
      "First variable: 30\n",
      "Second variable:  20\n"
     ]
    }
   ],
   "source": [
    "first_variable = 20\n",
    "second_variable = 30\n",
    "first_variable, second_variable = second_variable, first_variable\n",
    "\n",
    "print(\"First variable:\", first_variable)\n",
    "print(\"Second variable: \", second_variable)"
   ]
  },
  {
   "cell_type": "markdown",
   "id": "061c3ea5-5de0-42f7-9688-0513312db574",
   "metadata": {},
   "source": [
    "# 4. write a prgm to generate random number?"
   ]
  },
  {
   "cell_type": "code",
   "execution_count": 28,
   "id": "8f55cb8d-5939-4a0c-a316-39edb092e786",
   "metadata": {},
   "outputs": [
    {
     "data": {
      "text/plain": [
       "6323"
      ]
     },
     "execution_count": 28,
     "metadata": {},
     "output_type": "execute_result"
    }
   ],
   "source": [
    "import random\n",
    "random.randint(1000, 9999) #"
   ]
  },
  {
   "cell_type": "code",
   "execution_count": 38,
   "id": "55fde02c-e0d7-481d-a127-07b22404f9f3",
   "metadata": {},
   "outputs": [
    {
     "name": "stdout",
     "output_type": "stream",
     "text": [
      "11\n"
     ]
    }
   ],
   "source": [
    "import random\n",
    "print(random.randrange(1, 100,2)) #randomrange (it will ask start step)"
   ]
  },
  {
   "cell_type": "markdown",
   "id": "9c9f067f-cb62-44fb-92dd-eb1bb0489f9f",
   "metadata": {},
   "source": [
    "# 5. Write a Python program to do arithmetical operations addition and division.?"
   ]
  },
  {
   "cell_type": "code",
   "execution_count": 41,
   "id": "14cb74b0-2fda-4dc0-a981-41bbd2cbe64e",
   "metadata": {},
   "outputs": [
    {
     "name": "stdout",
     "output_type": "stream",
     "text": [
      "Addition: 22\n",
      "Division: 0.8333333333333334\n"
     ]
    }
   ],
   "source": [
    "number1 = 12\n",
    "number2 = 10\n",
    "Addition = number1 + number2\n",
    "Division = number2/number1\n",
    "\n",
    "print(\"Addition:\", Addition)\n",
    "print(\"Division:\", Division)"
   ]
  }
 ],
 "metadata": {
  "kernelspec": {
   "display_name": "Python 3 (ipykernel)",
   "language": "python",
   "name": "python3"
  },
  "language_info": {
   "codemirror_mode": {
    "name": "ipython",
    "version": 3
   },
   "file_extension": ".py",
   "mimetype": "text/x-python",
   "name": "python",
   "nbconvert_exporter": "python",
   "pygments_lexer": "ipython3",
   "version": "3.12.4"
  }
 },
 "nbformat": 4,
 "nbformat_minor": 5
}
